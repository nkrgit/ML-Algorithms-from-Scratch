{
  "nbformat": 4,
  "nbformat_minor": 0,
  "metadata": {
    "colab": {
      "name": "HW2_Q1_5_EE559.ipynb",
      "provenance": [],
      "collapsed_sections": [
        "i_jQKpUyPX8x",
        "1yhKn05N_em_",
        "z9SRCiep_iqY",
        "eXCjtTVKX5Vm",
        "J4dU3nYjOWJn"
      ]
    },
    "kernelspec": {
      "name": "python3",
      "display_name": "Python 3"
    },
    "language_info": {
      "name": "python"
    },
    "accelerator": "TPU"
  },
  "cells": [
    {
      "cell_type": "code",
      "source": [
        "#HW2: EE559; UB ID: 50432242"
      ],
      "metadata": {
        "id": "e5W_KLj4PXjx"
      },
      "execution_count": null,
      "outputs": []
    },
    {
      "cell_type": "markdown",
      "source": [
        "#Loading and Intialization"
      ],
      "metadata": {
        "id": "i_jQKpUyPX8x"
      }
    },
    {
      "cell_type": "code",
      "source": [
        "!pip install cvxpy"
      ],
      "metadata": {
        "colab": {
          "base_uri": "https://localhost:8080/"
        },
        "id": "3K8sNYxCt7um",
        "outputId": "bee26721-d887-4db0-cf8b-7a426f55a869"
      },
      "execution_count": null,
      "outputs": [
        {
          "output_type": "stream",
          "name": "stdout",
          "text": [
            "Requirement already satisfied: cvxpy in /usr/local/lib/python3.7/dist-packages (1.0.31)\n",
            "Requirement already satisfied: multiprocess in /usr/local/lib/python3.7/dist-packages (from cvxpy) (0.70.12.2)\n",
            "Requirement already satisfied: numpy>=1.15 in /usr/local/lib/python3.7/dist-packages (from cvxpy) (1.21.5)\n",
            "Requirement already satisfied: osqp>=0.4.1 in /usr/local/lib/python3.7/dist-packages (from cvxpy) (0.6.2.post0)\n",
            "Requirement already satisfied: scs>=1.1.3 in /usr/local/lib/python3.7/dist-packages (from cvxpy) (3.2.0)\n",
            "Requirement already satisfied: ecos>=2 in /usr/local/lib/python3.7/dist-packages (from cvxpy) (2.0.10)\n",
            "Requirement already satisfied: scipy>=1.1.0 in /usr/local/lib/python3.7/dist-packages (from cvxpy) (1.4.1)\n",
            "Requirement already satisfied: qdldl in /usr/local/lib/python3.7/dist-packages (from osqp>=0.4.1->cvxpy) (0.1.5.post0)\n",
            "Requirement already satisfied: dill>=0.3.4 in /usr/local/lib/python3.7/dist-packages (from multiprocess->cvxpy) (0.3.4)\n"
          ]
        }
      ]
    },
    {
      "cell_type": "code",
      "source": [
        "#Importing required libraries\n",
        "import tensorflow as tf\n",
        "import numpy as np\n",
        "import matplotlib.pyplot as plt\n",
        "import cvxpy as cp"
      ],
      "metadata": {
        "id": "55sRGN2rujMr"
      },
      "execution_count": 1,
      "outputs": []
    },
    {
      "cell_type": "code",
      "source": [
        "mnist = tf.keras.datasets.mnist #loaded data"
      ],
      "metadata": {
        "id": "J-M3Wwg7xhMg"
      },
      "execution_count": 2,
      "outputs": []
    },
    {
      "cell_type": "code",
      "source": [
        "#Step 1: Loading and Prepocessing data\n",
        "(train_images, train_labels), (test_images, test_labels) = mnist.load_data() #All numbers from 0 to 9\n",
        "index_train = np.where((train_labels == 2) | (train_labels == 6)) #index of 2 digit and 6 digit which are 3 and 5 in training data (as indexing starts from 0)\n",
        "index_test = np.where((test_labels == 2) | (test_labels == 6)) #index of 2 digit and 6 digit which are 3 and 5 in test data (as indexing starts from 0)"
      ],
      "metadata": {
        "id": "fl2MMqMNxigq",
        "colab": {
          "base_uri": "https://localhost:8080/"
        },
        "outputId": "1923b5b4-1c07-4c69-9a2a-dcc9537ad163"
      },
      "execution_count": 3,
      "outputs": [
        {
          "output_type": "stream",
          "name": "stdout",
          "text": [
            "Downloading data from https://storage.googleapis.com/tensorflow/tf-keras-datasets/mnist.npz\n",
            "11493376/11490434 [==============================] - 0s 0us/step\n",
            "11501568/11490434 [==============================] - 0s 0us/step\n"
          ]
        }
      ]
    },
    {
      "cell_type": "code",
      "source": [
        "#Extraction training images for 2 and 6\n",
        "train_images_26 = train_images[index_train]\n",
        "train_images_26 = train_images_26.reshape((len(train_images_26), train_images_26[1].size))\n",
        "train_labels_26 = train_labels[index_train].astype('int')"
      ],
      "metadata": {
        "id": "8dvvNvttxmi3"
      },
      "execution_count": 4,
      "outputs": []
    },
    {
      "cell_type": "code",
      "source": [
        "#Extraction test images for 2 and 6\n",
        "test_images_26 = test_images[index_test]\n",
        "test_images_26 = test_images_26.reshape((len(test_images_26), test_images_26[1].size))\n",
        "test_labels_26 = test_labels[index_test].astype('int')"
      ],
      "metadata": {
        "id": "QwAq2ec1xol7"
      },
      "execution_count": 5,
      "outputs": []
    },
    {
      "cell_type": "code",
      "source": [
        "#Changing labels from 2 to -1 and 6 to 1\n",
        "train_labels_26[np.where(train_labels_26 == 2)] = -1\n",
        "train_labels_26[np.where(train_labels_26 == 6)] = 1\n",
        "test_labels_26[np.where(test_labels_26 == 2)] = -1\n",
        "test_labels_26[np.where(test_labels_26 == 6)] = 1"
      ],
      "metadata": {
        "id": "yfXKA1-WxrKb"
      },
      "execution_count": 6,
      "outputs": []
    },
    {
      "cell_type": "code",
      "source": [
        "#Normalizing features\n",
        "train_images_26 = train_images_26/255\n",
        "test_images_26 = test_images_26/255\n",
        "\n",
        "#Whole samples for 5th task\n",
        "train_images_26_all = train_images_26\n",
        "test_images_26_all = test_images_26\n",
        "train_labels_26_all = train_labels_26\n",
        "test_labels_26_all = test_labels_26"
      ],
      "metadata": {
        "id": "_2ZcVKC0xrN1"
      },
      "execution_count": 7,
      "outputs": []
    },
    {
      "cell_type": "code",
      "source": [
        "#Extracting first 1000 samples\n",
        "train_images_26 = train_images_26[range(1000)]\n",
        "train_labels_26 = train_labels_26[range(1000)]\n",
        "train_labels_26 = train_labels_26.reshape((np.shape(train_labels_26)[0], 1))"
      ],
      "metadata": {
        "id": "Xhc6H-U5yqgT"
      },
      "execution_count": 8,
      "outputs": []
    },
    {
      "cell_type": "markdown",
      "source": [
        "#1. Primal Form"
      ],
      "metadata": {
        "id": "1yhKn05N_em_"
      }
    },
    {
      "cell_type": "code",
      "source": [
        "X = train_images_26\n",
        "Y = train_labels_26\n",
        "\n",
        "w = cp.Variable((np.shape(train_images_26)[1], 1))\n",
        "b = cp.Variable((1,1))\n",
        "\n",
        "#Testing purposes\n",
        "# print(\"X shape: \", np.shape(X), type(X))\n",
        "# print(\"X shape: \", np.shape(Y), type(Y))\n",
        "# print(\"w shape: \", np.shape(w), type(w))\n",
        "\n",
        "t = X @ w + b\n",
        "\n",
        "obj = cp.Minimize(cp.sum_squares(w))\n",
        "constraints = [cp.multiply(Y,t) >= 1]\n",
        "\n",
        "prob = cp.Problem(obj, constraints)\n",
        "prob.solve()\n",
        "print(\"status:\", prob.status)     #status\n",
        "print(\"The optimal value\", prob.value) #opt value\n",
        "\n",
        "\n",
        "w = w.value\n",
        "b = b.value\n"
      ],
      "metadata": {
        "colab": {
          "base_uri": "https://localhost:8080/"
        },
        "id": "8lh2bygZ05eJ",
        "outputId": "f2d8ee42-7873-44fc-f791-2457f07cd64d"
      },
      "execution_count": 9,
      "outputs": [
        {
          "output_type": "stream",
          "name": "stdout",
          "text": [
            "status: optimal\n",
            "The optimal value 7.207983941130411\n"
          ]
        }
      ]
    },
    {
      "cell_type": "code",
      "source": [
        "print(\"w primal shape: \", np.shape(w))\n",
        "print(\"b shape: \", np.shape(b))"
      ],
      "metadata": {
        "colab": {
          "base_uri": "https://localhost:8080/"
        },
        "id": "PZqqbj8t9lMN",
        "outputId": "a88f3c25-70a5-4ccc-dac8-f00113f26dc2"
      },
      "execution_count": 10,
      "outputs": [
        {
          "output_type": "stream",
          "name": "stdout",
          "text": [
            "w primal shape:  (784, 1)\n",
            "b shape:  (1, 1)\n"
          ]
        }
      ]
    },
    {
      "cell_type": "code",
      "source": [
        "#Calculating accuracy on Training set\n",
        "train_set_size = train_labels_26.shape[0] #Number of Training Samples\n",
        "loss = 0\n",
        "for i in range(train_set_size):\n",
        "    x = train_images_26[i][:].reshape(784,1) #each xi sample of size (784, 1)\n",
        "    y = train_labels_26[i] #Actual y-label\n",
        "    wTx = np.dot(np.transpose(w), x)\n",
        "\n",
        "    # Activation function\n",
        "    if wTx + b >= 0:\n",
        "      y_pred = 1\n",
        "    else:\n",
        "      y_pred = -1\n",
        "\n",
        "    #Loss calculation\n",
        "    if y*y_pred<=0:\n",
        "      loss += 1 ##increasing loss value whenever a misclassified label is encountered\n",
        "\n",
        "error = (1/train_set_size)*loss\n",
        "accuracy = (1-error)*100\n",
        "print(\"Primal form: Training error: {}, Accuracy: {}%\".format(error, accuracy))"
      ],
      "metadata": {
        "colab": {
          "base_uri": "https://localhost:8080/"
        },
        "id": "0cSxlduJ3Kqr",
        "outputId": "77a37664-aa2f-4966-e6a3-b61f89c9b8cd"
      },
      "execution_count": 12,
      "outputs": [
        {
          "output_type": "stream",
          "name": "stdout",
          "text": [
            "Primal form: Training error: 0.0, Accuracy: 100.0%\n"
          ]
        }
      ]
    },
    {
      "cell_type": "code",
      "source": [
        "#Calculating accuracy on Test set\n",
        "test_set_size = test_labels_26.shape[0] #Number of Test Samples\n",
        "loss = 0\n",
        "for i in range(test_set_size):\n",
        "    x = test_images_26[i][:].reshape(784,1) #each xi sample of size (784, 1)\n",
        "    y = test_labels_26[i] #Actual y-label\n",
        "    wTx = np.dot(np.transpose(w), x)\n",
        "\n",
        "    # Activation function\n",
        "    if wTx + b >= 0:\n",
        "      y_pred = 1\n",
        "    else:\n",
        "      y_pred = -1\n",
        "\n",
        "    #Loss calculation\n",
        "    if y*y_pred<=0:\n",
        "      loss += 1 ##increasing loss value whenever a misclassified label is encountered\n",
        "\n",
        "error = (1/test_set_size)*loss\n",
        "accuracy = (1-error)*100\n",
        "print(\"Primal form: Test error: {}, Accuracy: {}%\".format(error, accuracy))"
      ],
      "metadata": {
        "colab": {
          "base_uri": "https://localhost:8080/"
        },
        "id": "hf_fJJmW7q7y",
        "outputId": "b9fe2492-f784-45c8-8bd5-fc253d517eee"
      },
      "execution_count": 13,
      "outputs": [
        {
          "output_type": "stream",
          "name": "stdout",
          "text": [
            "Primal form: Test error: 0.02462311557788945, Accuracy: 97.53768844221106%\n"
          ]
        }
      ]
    },
    {
      "cell_type": "markdown",
      "source": [
        "#2. Dual Form"
      ],
      "metadata": {
        "id": "z9SRCiep_iqY"
      }
    },
    {
      "cell_type": "code",
      "source": [
        "#Dual for w is a vector and b is a scalar\n",
        "\n",
        "X = train_images_26\n",
        "Y = train_labels_26\n",
        "\n",
        "\n",
        "alpha = cp.Variable((np.shape(train_labels_26)[0], 1))\n",
        "ones = np.ones((np.shape(train_labels_26)[0], 1))\n",
        "\n",
        "# print(\"X shape: \", np.shape(X), type(X))\n",
        "# print(\"X shape: \", np.shape(Y), type(Y))\n",
        "# print(\"alpha shape: \", np.shape(alpha), type(alpha))\n",
        "\n",
        "obj_fun = -alpha.T @ ones + (1/2)*cp.quad_form(cp.multiply(Y, alpha), X @ X.T)  # (cp.multiply(Y, alpha).T @ (X @ X.T) @ cp.multiply(Y, alpha))\n",
        "\n",
        "obj = cp.Minimize(obj_fun)\n",
        "constraints = [alpha >= 0, alpha.T @ Y == 0]\n",
        "\n",
        "prob = cp.Problem(obj, constraints)\n",
        "prob.solve()\n",
        "print(\"status:\", prob.status)     #status\n",
        "print(\"The optimal value\", prob.value) #opt value\n",
        "\n",
        "alpha = alpha.value\n"
      ],
      "metadata": {
        "colab": {
          "base_uri": "https://localhost:8080/"
        },
        "id": "HYe_D8Xw_bJp",
        "outputId": "2c978ea5-4844-4047-9c86-5907ab8bee3f"
      },
      "execution_count": 14,
      "outputs": [
        {
          "output_type": "stream",
          "name": "stdout",
          "text": [
            "status: optimal\n",
            "The optimal value -3.603991970589853\n"
          ]
        }
      ]
    },
    {
      "cell_type": "code",
      "source": [
        "#Calculating w* and b* from alpha\n",
        "w_dual = np.dot(X.T, alpha*Y)\n",
        "print(\"w_dual shape: \", np.shape(w_dual))\n",
        "\n",
        "y_neg = []\n",
        "y_pos = []\n",
        "\n",
        "for i in range(train_set_size):\n",
        "  if Y[i] == -1:\n",
        "    y_neg.append(np.dot(w.T, X[i]))\n",
        "  else:\n",
        "    y_pos.append(np.dot(w.T, X[i]))\n",
        "\n",
        "b_dual = - (max(y_neg) + min(y_pos))/2\n",
        "\n",
        "w = w_dual\n",
        "b = b_dual"
      ],
      "metadata": {
        "colab": {
          "base_uri": "https://localhost:8080/"
        },
        "id": "Ud2TlVF8RchA",
        "outputId": "53220685-2405-4c43-921e-78c196358318"
      },
      "execution_count": 16,
      "outputs": [
        {
          "output_type": "stream",
          "name": "stdout",
          "text": [
            "w_dual shape:  (784, 1)\n"
          ]
        }
      ]
    },
    {
      "cell_type": "code",
      "source": [
        "#Calculating accuracy on Training set\n",
        "train_set_size = train_labels_26.shape[0] #Number of Training Samples\n",
        "loss = 0\n",
        "for i in range(train_set_size):\n",
        "    x = train_images_26[i][:].reshape(784,1) #each xi sample of size (784, 1)\n",
        "    y = train_labels_26[i] #Actual y-label\n",
        "    wTx = np.dot(np.transpose(w), x)\n",
        "\n",
        "    # Activation function\n",
        "    if wTx + b >= 0:\n",
        "      y_pred = 1\n",
        "    else:\n",
        "      y_pred = -1\n",
        "\n",
        "    #Loss calculation\n",
        "    if y*y_pred<=0:\n",
        "      loss += 1 ##increasing loss value whenever a misclassified label is encountered\n",
        "\n",
        "error = (1/train_set_size)*loss\n",
        "accuracy = (1-error)*100\n",
        "print(\"Dual form: Training error: {}, Accuracy: {}%\".format(error, accuracy))"
      ],
      "metadata": {
        "colab": {
          "base_uri": "https://localhost:8080/"
        },
        "id": "4YKvGUNVVMwP",
        "outputId": "0c61e627-8fc4-42a1-cb08-7756d2c055df"
      },
      "execution_count": 20,
      "outputs": [
        {
          "output_type": "stream",
          "name": "stdout",
          "text": [
            "Dual form: Training error: 0.0, Accuracy: 100.0%\n"
          ]
        }
      ]
    },
    {
      "cell_type": "code",
      "source": [
        "#Calculating accuracy on Test set\n",
        "test_set_size = test_labels_26.shape[0] #Number of Test Samples\n",
        "loss = 0\n",
        "for i in range(test_set_size):\n",
        "    x = test_images_26[i][:].reshape(784,1) #each xi sample of size (784, 1)\n",
        "    y = test_labels_26[i] #Actual y-label\n",
        "    wTx = np.dot(np.transpose(w), x)\n",
        "\n",
        "    # Activation function\n",
        "    if wTx + b >= 0:\n",
        "      y_pred = 1\n",
        "    else:\n",
        "      y_pred = -1\n",
        "\n",
        "    #Loss calculation\n",
        "    if y*y_pred<=0:\n",
        "      loss += 1 ##increasing loss value whenever a misclassified label is encountered\n",
        "\n",
        "error = (1/test_set_size)*loss\n",
        "accuracy = (1-error)*100\n",
        "print(\"Dual form: Test error: {}, Accuracy: {}%\".format(error, accuracy))"
      ],
      "metadata": {
        "colab": {
          "base_uri": "https://localhost:8080/"
        },
        "id": "vgGkVZn6WC9i",
        "outputId": "1238ac9f-0aa5-41b4-840c-73096dddaa39"
      },
      "execution_count": 21,
      "outputs": [
        {
          "output_type": "stream",
          "name": "stdout",
          "text": [
            "Dual form: Test error: 0.02462311557788945, Accuracy: 97.53768844221106%\n"
          ]
        }
      ]
    },
    {
      "cell_type": "markdown",
      "source": [
        "###Observations: From above results of primal form and dual forms of optimal margin classifier, it is evident that the training and test errors are same."
      ],
      "metadata": {
        "id": "05QoFJupOIRL"
      }
    },
    {
      "cell_type": "markdown",
      "source": [
        "#3. Dual Form using Kernel Trick"
      ],
      "metadata": {
        "id": "eXCjtTVKX5Vm"
      }
    },
    {
      "cell_type": "code",
      "source": [
        "#Main idea: replace <x(i), x(j)> with k(x(i), x(j))\n",
        "\n",
        "from sklearn.metrics.pairwise import rbf_kernel\n",
        "from sklearn.metrics.pairwise import pairwise_kernels\n",
        "X = train_images_26\n",
        "X_test=test_images_26\n",
        "K_train=rbf_kernel(X,gamma=1) #kernel for training data\n",
        "K_train_test=rbf_kernel(X,X_test,gamma=1) #kernel for test data\n",
        "\n",
        "Y = train_labels_26\n",
        "\n",
        "alpha = cp.Variable((np.shape(train_labels_26)[0], 1))\n",
        "ones = np.ones((np.shape(train_labels_26)[0], 1))\n",
        "\n",
        "obj_fun = -alpha.T @ ones + (1/2)*cp.quad_form(cp.multiply(Y, alpha), K_train)  # (cp.multiply(Y, alpha).T @ (X @ X.T) @ cp.multiply(Y, alpha))\n",
        "\n",
        "obj = cp.Minimize(obj_fun)\n",
        "constraints = [alpha >= 0, alpha.T @ Y == 0]\n",
        "\n",
        "prob = cp.Problem(obj, constraints)\n",
        "prob.solve()\n",
        "print(\"status:\", prob.status)     #status\n",
        "print(\"The optimal value\", prob.value) #opt value\n",
        "\n",
        "alpha = alpha.value\n",
        "\n"
      ],
      "metadata": {
        "colab": {
          "base_uri": "https://localhost:8080/"
        },
        "id": "JaZsm3rnX_SB",
        "outputId": "8d075949-8fc3-4fc2-8430-70a7f52e5c81"
      },
      "execution_count": 32,
      "outputs": [
        {
          "output_type": "stream",
          "name": "stdout",
          "text": [
            "status: optimal\n",
            "The optimal value -499.8341660174252\n"
          ]
        }
      ]
    },
    {
      "cell_type": "code",
      "source": [
        "#Dual SVM using kernel trick\n",
        "#Calculating w* and b* from alpha\n",
        "w_dual_pix = np.dot(K_train.T, alpha*Y)\n",
        "\n",
        "y_neg = []\n",
        "y_pos = []\n",
        "loss = 0\n",
        "\n",
        "for i in range(train_set_size):\n",
        "  if Y[i] == -1:\n",
        "    y_neg.append(w_dual_pix[i])\n",
        "  else:\n",
        "    y_pos.append(w_dual_pix[i])\n",
        "\n",
        "b_dual = - (max(y_neg) + min(y_pos))/2\n",
        "\n",
        "\n",
        "#Training error\n",
        "y_pred = w_dual_pix + b_dual\n",
        "\n",
        "y_pred = [1 if y >= 0 else -1 for y in y_pred]\n",
        "\n",
        "\n",
        "for i in range(train_set_size):\n",
        "  if Y[i] != y_pred[i]:\n",
        "    loss += 1\n",
        "\n",
        "\n",
        "error = (1/train_set_size)*loss\n",
        "accuracy = (1-error)*100\n",
        "print(\"Dual SVM with kernel: \")\n",
        "print(\"Training error: {}, Accuracy: {}%\".format(error, accuracy))"
      ],
      "metadata": {
        "colab": {
          "base_uri": "https://localhost:8080/"
        },
        "id": "Yzq6Bc2rf0Ac",
        "outputId": "b12c65d6-b7a5-4c3c-a879-cb50e193a532"
      },
      "execution_count": 28,
      "outputs": [
        {
          "output_type": "stream",
          "name": "stdout",
          "text": [
            "Dual SVM with kernel: \n",
            "Training error: 0.0, Accuracy: 100.0%\n"
          ]
        }
      ]
    },
    {
      "cell_type": "code",
      "source": [
        "#Dual SVM using kernel trick: Test error\n",
        "#Calculating w* and b* from alpha\n",
        "\n",
        "w_dual_pix = np.dot(K_train_test.T, alpha*Y)\n",
        "\n",
        "y_test = test_labels_26\n",
        "y_neg = []\n",
        "y_pos = []\n",
        "loss = 0\n",
        "\n",
        "for i in range(test_set_size):\n",
        "  if y_test[i] == -1:\n",
        "    y_neg.append(w_dual_pix[i])\n",
        "  else:\n",
        "    y_pos.append(w_dual_pix[i])\n",
        "\n",
        "b_dual = - (max(y_neg) + min(y_pos))/2\n",
        "\n",
        "\n",
        "#Test error\n",
        "y_pred = w_dual_pix + b_dual\n",
        "\n",
        "y_pred = [1 if y >= 0 else -1 for y in y_pred]\n",
        "\n",
        "for i in range(test_set_size):\n",
        "  if y_test[i] != y_pred[i]:\n",
        "    loss += 1\n",
        "\n",
        "\n",
        "error = (1/test_set_size)*loss\n",
        "accuracy = (1-error)*100\n",
        "print(\"Dual SVM with kernel: \")\n",
        "print(\"Test error: {}, Accuracy: {}%\".format(error, accuracy))"
      ],
      "metadata": {
        "colab": {
          "base_uri": "https://localhost:8080/"
        },
        "id": "kMns6TmEiQ39",
        "outputId": "70dad885-a364-46b1-e94d-86542138b311"
      },
      "execution_count": 29,
      "outputs": [
        {
          "output_type": "stream",
          "name": "stdout",
          "text": [
            "Dual SVM with kernel: \n",
            "Test error: 0.2718592964824121, Accuracy: 72.8140703517588%\n"
          ]
        }
      ]
    },
    {
      "cell_type": "markdown",
      "source": [
        "###Observation: Dual SVM with kernel trick shows a less accuracy on test data. Better results can be obtained by trying different sigma values"
      ],
      "metadata": {
        "id": "n7ihcOQ8PMdt"
      }
    },
    {
      "cell_type": "code",
      "source": [
        ""
      ],
      "metadata": {
        "id": "91Ny0KRily4w"
      },
      "execution_count": null,
      "outputs": []
    },
    {
      "cell_type": "markdown",
      "source": [
        "#4. Comparison"
      ],
      "metadata": {
        "id": "J4dU3nYjOWJn"
      }
    },
    {
      "cell_type": "code",
      "source": [
        ""
      ],
      "metadata": {
        "id": "sjMu7lBaOdq_"
      },
      "execution_count": null,
      "outputs": []
    },
    {
      "cell_type": "markdown",
      "source": [
        "###K-nearest neighbor algorithm"
      ],
      "metadata": {
        "id": "1YBMCUG2OfS5"
      }
    },
    {
      "cell_type": "code",
      "source": [
        "#for k = [3,5]\n",
        "#Training set\n",
        "kvalues = [3,5]\n",
        "for k in kvalues: #Iterating over different k values\n",
        "  loss = 0\n",
        "  for i in range(train_set_size): #Calculating Euclieden distance values for each sample of training data\n",
        "    distance = []\n",
        "    x = train_images_26[i][:].reshape(784,1)\n",
        "    y = train_labels_26[i]\n",
        "    for j in range(train_set_size): #Calculating Euclieden distance from each sample of training data to every sample of training data\n",
        "        x1 = train_images_26[j][:].reshape(784,1)\n",
        "        d = np.linalg.norm(x-x1) #Calculating the euclidean distance\n",
        "        distance.append(d)\n",
        "\n",
        "    sorteddistance = list(np.argsort(distance)) #Sorting the distance in ascending order\n",
        "\n",
        "    # if k == 1: #for k = 1\n",
        "    #   y_pred = train_labels_26_w_dummy[sorteddistance[0]] #Using only first minimum sample from sorted distances\n",
        "\n",
        "    if k == 3: #for K = 3\n",
        "      ylabels = []\n",
        "      for i in range(3): #Using first 3 minimum distance samples from sorted distances\n",
        "        ylabels.append(train_labels_26[sorteddistance[i]])\n",
        "      y_pred = max(ylabels, key = ylabels.count)\n",
        "\n",
        "    if k == 5: #for K = 5\n",
        "      ylabels = []\n",
        "      for i in range(5):#Using first 5 minimum distance samples from sorted distances\n",
        "        ylabels.append(train_labels_26[sorteddistance[i]])\n",
        "      y_pred = max(ylabels, key = ylabels.count)\n",
        "\n",
        "    #Loss function\n",
        "    if y != y_pred:\n",
        "        loss += 1 #increasing loss value whenever a misclassified label is encountered\n",
        "\n",
        "  error = (1/train_set_size)*loss\n",
        "  accuracy = (1-error)*100\n",
        "  print(\"K: {}, Training error: {}\".format(k, error))\n",
        "\n",
        "#K-nearest neighbor algorithm\n",
        "#Test set\n",
        "for k in kvalues:\n",
        "  loss = 0\n",
        "  for i in range(test_set_size): #Calculating Euclieden distance values for each sample of test data\n",
        "    distance = []\n",
        "    x = test_images_26[i][:].reshape(784,1)\n",
        "    y = test_labels_26[i]\n",
        "    for j in range(train_set_size):\n",
        "        x1 = train_images_26[j][:].reshape(784,1)\n",
        "        d = np.linalg.norm(x-x1) #Calculating the euclidean distance\n",
        "        distance.append(d)\n",
        "\n",
        "    sorteddistance = list(np.argsort(distance)) #Sorting the distance in ascending order\n",
        "\n",
        "    if k == 1: #for k = 1 #First minimum distances from training samples\n",
        "      y_pred = train_labels_26[sorteddistance[0]] #Getting the y-label of closest neighbour\n",
        "\n",
        "    if k == 3: #for K = 3 #First 3 minimum distances from training samples\n",
        "      ylabels = []\n",
        "      for i in range(3):\n",
        "        ylabels.append(train_labels_26[sorteddistance[i]]) #y labels of 3 training samples\n",
        "      y_pred = max(ylabels, key = ylabels.count) #Getting the maximum repeated y-label of closest 3 neighbours\n",
        "\n",
        "    if k == 5: #for K = 5 #First 5 minimum distances from training samples\n",
        "      ylabels = []\n",
        "      for i in range(5):\n",
        "        ylabels.append(train_labels_26[sorteddistance[i]]) #y labels of 5 training samples\n",
        "      y_pred = max(ylabels, key = ylabels.count)#Getting the maximum repeated y-label of closest 5 neighbours\n",
        "\n",
        "    #Loss function\n",
        "    if y != y_pred:\n",
        "        loss += 1 #increasing loss value whenever a misclassified label is encountered\n",
        "\n",
        "  error = (1/test_set_size)*loss\n",
        "  accuracy = (1-error)*100\n",
        "  print(\"K: {}, Test error: {}\".format(k, error))"
      ],
      "metadata": {
        "colab": {
          "base_uri": "https://localhost:8080/"
        },
        "id": "htzIq4MXOjf2",
        "outputId": "ab4a8209-78d5-4d3d-ccf2-ad36cbe02bcd"
      },
      "execution_count": 31,
      "outputs": [
        {
          "output_type": "stream",
          "name": "stdout",
          "text": [
            "K: 3, Training error: 0.002\n",
            "K: 5, Training error: 0.006\n",
            "K: 3, Test error: 0.006030150753768845\n",
            "K: 5, Test error: 0.007035175879396985\n"
          ]
        }
      ]
    },
    {
      "cell_type": "markdown",
      "source": [
        "![image.png](data:image/png;base64,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)"
      ],
      "metadata": {
        "id": "LScpHF47PUei"
      }
    },
    {
      "cell_type": "code",
      "source": [
        ""
      ],
      "metadata": {
        "id": "DhbKSnUfUqlK"
      },
      "execution_count": null,
      "outputs": []
    }
  ]
}
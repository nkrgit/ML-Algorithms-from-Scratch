{
  "nbformat": 4,
  "nbformat_minor": 0,
  "metadata": {
    "colab": {
      "name": "Final_EE559_HW3 .ipynb",
      "provenance": [],
      "collapsed_sections": [
        "i_jQKpUyPX8x",
        "eXCjtTVKX5Vm",
        "OmcKWHDcKGL6",
        "U-p_1cgpN9R2",
        "2ivUdLktNog9",
        "vLxqxiPLrdvJ",
        "wkLDzWKSyfn2",
        "nri07ALNBI09",
        "H8icWUA3BSgZ",
        "5a4InU9ckobD",
        "2qBd829ks0kR"
      ]
    },
    "kernelspec": {
      "name": "python3",
      "display_name": "Python 3"
    },
    "language_info": {
      "name": "python"
    }
  },
  "cells": [
    {
      "cell_type": "code",
      "execution_count": null,
      "metadata": {
        "id": "zM0cNl_CBvuw"
      },
      "outputs": [],
      "source": [
        "#HW3: EE559; UB ID: 50432242"
      ]
    },
    {
      "cell_type": "markdown",
      "source": [
        "#Loading and Intialization"
      ],
      "metadata": {
        "id": "i_jQKpUyPX8x"
      }
    },
    {
      "cell_type": "code",
      "source": [
        "!pip install cvxpy"
      ],
      "metadata": {
        "colab": {
          "base_uri": "https://localhost:8080/"
        },
        "id": "3K8sNYxCt7um",
        "outputId": "a66c3eb9-c812-46bb-9915-c0a6a6798648"
      },
      "execution_count": 1,
      "outputs": [
        {
          "output_type": "stream",
          "name": "stdout",
          "text": [
            "Requirement already satisfied: cvxpy in /usr/local/lib/python3.7/dist-packages (1.0.31)\n",
            "Requirement already satisfied: scipy>=1.1.0 in /usr/local/lib/python3.7/dist-packages (from cvxpy) (1.4.1)\n",
            "Requirement already satisfied: numpy>=1.15 in /usr/local/lib/python3.7/dist-packages (from cvxpy) (1.21.5)\n",
            "Requirement already satisfied: scs>=1.1.3 in /usr/local/lib/python3.7/dist-packages (from cvxpy) (3.2.0)\n",
            "Requirement already satisfied: osqp>=0.4.1 in /usr/local/lib/python3.7/dist-packages (from cvxpy) (0.6.2.post0)\n",
            "Requirement already satisfied: multiprocess in /usr/local/lib/python3.7/dist-packages (from cvxpy) (0.70.12.2)\n",
            "Requirement already satisfied: ecos>=2 in /usr/local/lib/python3.7/dist-packages (from cvxpy) (2.0.10)\n",
            "Requirement already satisfied: qdldl in /usr/local/lib/python3.7/dist-packages (from osqp>=0.4.1->cvxpy) (0.1.5.post0)\n",
            "Requirement already satisfied: dill>=0.3.4 in /usr/local/lib/python3.7/dist-packages (from multiprocess->cvxpy) (0.3.4)\n"
          ]
        }
      ]
    },
    {
      "cell_type": "code",
      "source": [
        "#Importing required libraries\n",
        "import tensorflow as tf\n",
        "import numpy as np\n",
        "import matplotlib.pyplot as plt\n",
        "import cvxpy as cp\n",
        "import warnings\n",
        "from sklearn.utils import shuffle\n",
        "import copy\n",
        "warnings.filterwarnings('ignore')"
      ],
      "metadata": {
        "id": "55sRGN2rujMr"
      },
      "execution_count": 2,
      "outputs": []
    },
    {
      "cell_type": "code",
      "source": [
        "mnist = tf.keras.datasets.mnist #loaded data"
      ],
      "metadata": {
        "id": "J-M3Wwg7xhMg"
      },
      "execution_count": 3,
      "outputs": []
    },
    {
      "cell_type": "code",
      "source": [
        "#Step 1: Loading and Prepocessing data\n",
        "(train_images, train_labels), (test_images, test_labels) = mnist.load_data() #All numbers from 0 to 9\n",
        "index_train = np.where((train_labels == 2) | (train_labels == 6)) #index of 2 digit and 6 digit which are 3 and 5 in training data (as indexing starts from 0)\n",
        "index_test = np.where((test_labels == 2) | (test_labels == 6)) #index of 2 digit and 6 digit which are 3 and 5 in test data (as indexing starts from 0)"
      ],
      "metadata": {
        "id": "fl2MMqMNxigq",
        "colab": {
          "base_uri": "https://localhost:8080/"
        },
        "outputId": "2b2f26bc-6b43-460a-b303-fe0d718d5bb1"
      },
      "execution_count": 4,
      "outputs": [
        {
          "output_type": "stream",
          "name": "stdout",
          "text": [
            "Downloading data from https://storage.googleapis.com/tensorflow/tf-keras-datasets/mnist.npz\n",
            "11493376/11490434 [==============================] - 0s 0us/step\n",
            "11501568/11490434 [==============================] - 0s 0us/step\n"
          ]
        }
      ]
    },
    {
      "cell_type": "code",
      "source": [
        "#Extraction training images for 2 and 6\n",
        "train_images_26 = train_images[index_train]\n",
        "train_images_26 = train_images_26.reshape((len(train_images_26), train_images_26[1].size))\n",
        "train_labels_26 = train_labels[index_train].astype('int')"
      ],
      "metadata": {
        "id": "8dvvNvttxmi3"
      },
      "execution_count": 5,
      "outputs": []
    },
    {
      "cell_type": "code",
      "source": [
        "#Extraction test images for 2 and 6\n",
        "test_images_26 = test_images[index_test]\n",
        "test_images_26 = test_images_26.reshape((len(test_images_26), test_images_26[1].size))\n",
        "test_labels_26 = test_labels[index_test].astype('int')"
      ],
      "metadata": {
        "id": "QwAq2ec1xol7"
      },
      "execution_count": 6,
      "outputs": []
    },
    {
      "cell_type": "code",
      "source": [
        "#for logistic regression\n",
        "\n",
        "train_labels_26_log = copy.deepcopy(train_labels_26)\n",
        "test_labels_26_log = copy.deepcopy(test_labels_26)\n",
        "\n",
        "#Changing labels from 2 to -1 and 6 to 1\n",
        "train_labels_26[np.where(train_labels_26 == 2)] = -1\n",
        "train_labels_26[np.where(train_labels_26 == 6)] = 1\n",
        "test_labels_26[np.where(test_labels_26 == 2)] = -1\n",
        "test_labels_26[np.where(test_labels_26 == 6)] = 1\n",
        "\n",
        "#changing labeles from 2 to 1 and 6 to 0\n",
        "train_labels_26_log[np.where(train_labels_26_log == 2)] = 1\n",
        "train_labels_26_log[np.where(train_labels_26_log == 6)] = 0\n",
        "test_labels_26_log[np.where(test_labels_26_log == 2)] = 1\n",
        "test_labels_26_log[np.where(test_labels_26_log == 6)] = 0"
      ],
      "metadata": {
        "id": "5WdzOAyay-mh"
      },
      "execution_count": 7,
      "outputs": []
    },
    {
      "cell_type": "code",
      "source": [
        "#Inserting dummy feature in 1 in training and test images\n",
        "#used in log as well\n",
        "train_images_26_w_dummy = np.insert(train_images_26, 784,1, axis=1)/255\n",
        "test_images_26_w_dummy = np.insert(test_images_26, 784,1, axis=1)/255\n",
        "train_images_26_w_dummy = train_images_26_w_dummy[range(1000)]\n",
        "train_labels_26_w_dummy = train_labels_26_log[range(1000)]"
      ],
      "metadata": {
        "id": "NX1u41fuNYNG"
      },
      "execution_count": 8,
      "outputs": []
    },
    {
      "cell_type": "code",
      "source": [
        "#Normalizing features\n",
        "train_images_26 = train_images_26/255\n",
        "test_images_26 = test_images_26/255\n",
        "\n",
        "#Whole samples for 5th task\n",
        "train_images_26_all = train_images_26\n",
        "test_images_26_all = test_images_26\n",
        "train_labels_26_all = train_labels_26\n",
        "test_labels_26_all = test_labels_26"
      ],
      "metadata": {
        "id": "_2ZcVKC0xrN1"
      },
      "execution_count": 9,
      "outputs": []
    },
    {
      "cell_type": "code",
      "source": [
        "#Extracting first 1000 samples\n",
        "train_images_26 = train_images_26[range(1000)]\n",
        "train_labels_26 = train_labels_26[range(1000)]\n",
        "train_labels_26 = train_labels_26.reshape((np.shape(train_labels_26)[0], 1))"
      ],
      "metadata": {
        "id": "Xhc6H-U5yqgT"
      },
      "execution_count": 10,
      "outputs": []
    },
    {
      "cell_type": "markdown",
      "source": [
        "#1. Model Selection"
      ],
      "metadata": {
        "id": "UgydVyfxKB2w"
      }
    },
    {
      "cell_type": "markdown",
      "source": [
        "##1. Kernel SVM"
      ],
      "metadata": {
        "id": "eXCjtTVKX5Vm"
      }
    },
    {
      "cell_type": "code",
      "source": [
        "#K-SVM with different gamma values\n",
        "from sklearn.metrics.pairwise import rbf_kernel\n",
        "from sklearn.metrics.pairwise import pairwise_kernels\n",
        "X = train_images_26\n",
        "X_test = test_images_26\n",
        "Y = train_labels_26\n",
        "train_set_size = train_labels_26.shape[0]\n",
        "test_set_size = test_labels_26.shape[0]\n",
        "sigma_values = [0.2, 0.5, 1, 3, 4, 5, 10]\n",
        "\n",
        "for val in sigma_values:\n",
        "  \n",
        "  K_train=rbf_kernel(X, gamma = 1/2/val**2) #kernel for training data\n",
        "  K_train_test=rbf_kernel(X, X_test, gamma = 1/2/val**2) #kernel for test data\n",
        "\n",
        "  alpha = cp.Variable((np.shape(train_labels_26)[0], 1))\n",
        "  ones = np.ones((np.shape(train_labels_26)[0], 1))\n",
        "\n",
        "  obj_fun = -alpha.T @ ones + (1/2)*cp.quad_form(cp.multiply(Y, alpha), K_train)  # (cp.multiply(Y, alpha).T @ (X @ X.T) @ cp.multiply(Y, alpha))\n",
        "  obj = cp.Minimize(obj_fun)\n",
        "  constraints = [alpha >= 0, alpha.T @ Y == 0]\n",
        "  prob = cp.Problem(obj, constraints)\n",
        "  prob.solve()\n",
        "\n",
        "\n",
        "  # print(\"status:\", prob.status)     #status\n",
        "  # print(\"The optimal value\", prob.value) #opt value\n",
        "\n",
        "  alpha = alpha.value\n",
        "\n",
        "  #Dual SVM using kernel trick\n",
        "  #Calculating w* and b* from alpha\n",
        "  w_dual_pix = np.dot(K_train.T, alpha*Y)\n",
        "  y_neg = []\n",
        "  y_pos = []\n",
        "  loss = 0\n",
        "\n",
        "  for i in range(train_set_size):\n",
        "    if Y[i] == -1:\n",
        "      y_neg.append(w_dual_pix[i])\n",
        "    else:\n",
        "      y_pos.append(w_dual_pix[i])\n",
        "\n",
        "  b_dual = - (max(y_neg) + min(y_pos))/2\n",
        "\n",
        "\n",
        "  #Training error\n",
        "  y_pred = w_dual_pix + b_dual\n",
        "  y_pred = [1 if y >= 0 else -1 for y in y_pred]\n",
        "\n",
        "  for i in range(train_set_size):\n",
        "    if Y[i] != y_pred[i]:\n",
        "      loss += 1\n",
        "\n",
        "  train_error = (1/train_set_size)*loss\n",
        "  train_accuracy = (1-train_error)*100\n",
        "\n",
        "\n",
        "  #Test error\n",
        "  #Calculating w* and b* from alpha\n",
        "\n",
        "  w_dual_pix = np.dot(K_train_test.T, alpha*Y)\n",
        "  y_test = test_labels_26\n",
        "  y_neg = []\n",
        "  y_pos = []\n",
        "  loss = 0\n",
        "\n",
        "\n",
        "  #Test error\n",
        "  y_pred = w_dual_pix + b_dual\n",
        "  y_pred = [1 if y >= 0 else -1 for y in y_pred]\n",
        "\n",
        "  for i in range(test_set_size):\n",
        "    if y_test[i] != y_pred[i]:\n",
        "      loss += 1\n",
        "\n",
        "\n",
        "  test_error = (1/test_set_size)*loss\n",
        "  test_accuracy = (1-test_error)*100\n",
        "  print(\"Sigma: {}, Training error: {}, Test error: {}\".format(val, train_error, test_error))"
      ],
      "metadata": {
        "colab": {
          "base_uri": "https://localhost:8080/"
        },
        "id": "JaZsm3rnX_SB",
        "outputId": "64a4510b-5158-4a1e-bd40-c4535b234e44"
      },
      "execution_count": null,
      "outputs": [
        {
          "output_type": "stream",
          "name": "stdout",
          "text": [
            "Sigma: 0.2, Training error: 0.0, Test error: 0.5185929648241207\n",
            "Sigma: 0.5, Training error: 0.0, Test error: 0.5185929648241207\n",
            "Sigma: 1, Training error: 0.0, Test error: 0.5185929648241207\n",
            "Sigma: 3, Training error: 0.0, Test error: 0.021105527638190957\n",
            "Sigma: 4, Training error: 0.0, Test error: 0.009045226130653268\n",
            "Sigma: 5, Training error: 0.0, Test error: 0.007537688442211056\n",
            "Sigma: 10, Training error: 0.0, Test error: 0.0135678391959799\n"
          ]
        }
      ]
    },
    {
      "cell_type": "markdown",
      "source": [
        "##2. Perceptron"
      ],
      "metadata": {
        "id": "OmcKWHDcKGL6"
      }
    },
    {
      "cell_type": "code",
      "source": [
        "#Perceptron Algorithm \n",
        "#Stopping criteria: 95% of the training data correctly classified\n",
        "w = np.ones((785,1)) #includes the dummy feature\n",
        "train_set_size = train_labels_26_w_dummy.shape[0] #Number of Training Samples\n",
        "count = 1\n",
        "x = np.transpose(train_images_26_w_dummy)\n",
        "y = np.transpose(train_labels_26_w_dummy)\n",
        "\n",
        "for j in range(train_set_size):\n",
        "  loss = 0\n",
        "\n",
        "  xj = train_images_26_w_dummy[j][:].reshape(785,1) #each xi sample of size (785, 1)\n",
        "  yj = train_labels_26_w_dummy[j] #y label which is either -1 or 1\n",
        "  wTxj = np.dot(np.transpose(w), xj) #Finding wTx values for each sample\n",
        "  \n",
        "  # #Activation function \n",
        "  #Using sign(x) function: \n",
        "  # { 1 for x >= 0}\n",
        "  # {-1 for x < 0}\n",
        "\n",
        "  if wTxj >= 0:\n",
        "    y_pred = 1\n",
        "  else:\n",
        "    y_pred = -1\n",
        "  \n",
        "  # Weight updation\n",
        "  if yj*y_pred<=0:\n",
        "    w = w + 0.1*xj*yj #updating w whenever predicted label is not actual label\n",
        "    count += 1\n",
        "  #Error calculation on Training set\n",
        "  WTxvalues = np.dot(np.transpose(w), x) #Calculating wTx for all training samples\n",
        "  y_predvalues = [1 if x >= 0 else -1 for x in WTxvalues[0]] #Predicted y labels for all training samples\n",
        "\n",
        "  yvalues = y*y_predvalues\n",
        "\n",
        "  for val in yvalues: #Removing the dummy feature\n",
        "    if val < 0: #misclassified labels\n",
        "      loss += 1 #increasing loss value whenever a misclassified label is encountered\n",
        "  \n",
        "\n",
        "  #Error calculation\n",
        "  train_error = (1/train_set_size)*loss\n",
        "  accuracy = (1- train_error)*100\n",
        "  \n",
        "  #Stopping criteria for 95% data correctly classified\n",
        "  if train_error <= 0.05:\n",
        "    break\n",
        "\n",
        "#Calculating error on Test set\n",
        "test_set_size = test_labels_26.shape[0] #Number of Test Samples\n",
        "loss = 0\n",
        "for i in range(test_set_size):\n",
        "    x = test_images_26_w_dummy[i][:].reshape(785,1) #each xi sample of size (785, 1)\n",
        "    y = test_labels_26[i] #Actual y-label\n",
        "    wTx = np.dot(np.transpose(w), x)\n",
        "\n",
        "    # Activation function\n",
        "    if wTx >= 0:\n",
        "      y_pred = 1\n",
        "    else:\n",
        "      y_pred = -1\n",
        "\n",
        "    #Loss calculation\n",
        "    if y*y_pred<=0:\n",
        "      loss += 1 ##increasing loss value whenever a misclassified label is encountered\n",
        "\n",
        "test_error = (1/test_set_size)*loss\n",
        "accuracy = (1-test_error)*100\n",
        "print(\" Perceptron Algorithm: \\n Training error: {}, Test error: {}\".format(train_error, test_error))\n"
      ],
      "metadata": {
        "colab": {
          "base_uri": "https://localhost:8080/"
        },
        "id": "uSgSGBauJEdi",
        "outputId": "a1d64c02-5693-406f-c8aa-049b53e47cd9"
      },
      "execution_count": null,
      "outputs": [
        {
          "output_type": "stream",
          "name": "stdout",
          "text": [
            " Perceptron Algorithm: \n",
            " Training error: 0.048, Test error: 0.06180904522613066\n"
          ]
        }
      ]
    },
    {
      "cell_type": "markdown",
      "source": [
        "##3. SVM"
      ],
      "metadata": {
        "id": "U-p_1cgpN9R2"
      }
    },
    {
      "cell_type": "code",
      "source": [
        "#Dual for w is a vector and b is a scalar\n",
        "\n",
        "X = train_images_26\n",
        "Y = train_labels_26\n",
        "\n",
        "alpha = cp.Variable((np.shape(train_labels_26)[0], 1))\n",
        "ones = np.ones((np.shape(train_labels_26)[0], 1))\n",
        "\n",
        "\n",
        "obj_fun = -alpha.T @ ones + (1/2)*cp.quad_form(cp.multiply(Y, alpha), X @ X.T)  # (cp.multiply(Y, alpha).T @ (X @ X.T) @ cp.multiply(Y, alpha))\n",
        "obj = cp.Minimize(obj_fun)\n",
        "constraints = [alpha >= 0, alpha.T @ Y == 0]\n",
        "\n",
        "prob = cp.Problem(obj, constraints)\n",
        "prob.solve()\n",
        "alpha = alpha.value\n",
        "\n",
        "\n",
        "#Calculating w* and b* from alpha\n",
        "w_dual = np.dot(X.T, alpha*Y)\n",
        "# print(\"w_dual shape: \", np.shape(w_dual))\n",
        "w = w_dual\n",
        "\n",
        "y_neg = []\n",
        "y_pos = []\n",
        "\n",
        "for i in range(train_set_size):\n",
        "  if Y[i] == -1:\n",
        "    y_neg.append(np.dot(w.T, X[i]))\n",
        "  else:\n",
        "    y_pos.append(np.dot(w.T, X[i]))\n",
        "\n",
        "b_dual = - (max(y_neg) + min(y_pos))/2\n",
        "\n",
        "w = w_dual\n",
        "b = b_dual\n",
        "\n",
        "#Calculating error on Training set\n",
        "train_set_size = train_labels_26.shape[0] #Number of Training Samples\n",
        "loss = 0\n",
        "for i in range(train_set_size):\n",
        "    x = train_images_26[i][:].reshape(784,1) #each xi sample of size (784, 1)\n",
        "    y = train_labels_26[i] #Actual y-label\n",
        "    wTx = np.dot(np.transpose(w), x)\n",
        "\n",
        "    # Activation function\n",
        "    if wTx + b >= 0:\n",
        "      y_pred = 1\n",
        "    else:\n",
        "      y_pred = -1\n",
        "\n",
        "    #Loss calculation\n",
        "    if y*y_pred<=0:\n",
        "      loss += 1 ##increasing loss value whenever a misclassified label is encountered\n",
        "\n",
        "train_error = (1/train_set_size)*loss\n",
        "accuracy = (1-train_error)*100\n",
        "\n",
        "\n",
        "#Calculating error on Test set\n",
        "test_set_size = test_labels_26.shape[0] #Number of Test Samples\n",
        "loss = 0\n",
        "for i in range(test_set_size):\n",
        "    x = test_images_26[i][:].reshape(784,1) #each xi sample of size (784, 1)\n",
        "    y = test_labels_26[i] #Actual y-label\n",
        "    wTx = np.dot(np.transpose(w), x)\n",
        "\n",
        "    # Activation function\n",
        "    if wTx + b >= 0:\n",
        "      y_pred = 1\n",
        "    else:\n",
        "      y_pred = -1\n",
        "\n",
        "    #Loss calculation\n",
        "    if y*y_pred<=0:\n",
        "      loss += 1 ##increasing loss value whenever a misclassified label is encountered\n",
        "\n",
        "test_error = (1/test_set_size)*loss\n",
        "accuracy = (1-test_error)*100\n",
        "print(\"SVM: \\nTraining error: {}, Test error: {}\".format(train_error, test_error, accuracy))"
      ],
      "metadata": {
        "colab": {
          "base_uri": "https://localhost:8080/"
        },
        "id": "6xfq0TleODFP",
        "outputId": "b2383f41-806c-4029-bad9-5033f762777e"
      },
      "execution_count": null,
      "outputs": [
        {
          "output_type": "stream",
          "name": "stdout",
          "text": [
            "SVM: \n",
            "Training error: 0.0, Test error: 0.02462311557788945\n"
          ]
        }
      ]
    },
    {
      "cell_type": "markdown",
      "source": [
        "##4. K-nearest neighbour"
      ],
      "metadata": {
        "id": "2ivUdLktNog9"
      }
    },
    {
      "cell_type": "code",
      "source": [
        "#for k = [3,5]\n",
        "#Training set\n",
        "kvalues = [3,5]\n",
        "for k in kvalues: #Iterating over different k values\n",
        "  loss = 0\n",
        "  for i in range(train_set_size): #Calculating Euclieden distance values for each sample of training data\n",
        "    distance = []\n",
        "    x = train_images_26_w_dummy[i][:].reshape(785,1)\n",
        "    y = train_labels_26_w_dummy[i]\n",
        "    for j in range(train_set_size): #Calculating Euclieden distance from each sample of training data to every sample of training data\n",
        "        x1 = train_images_26_w_dummy[j][:].reshape(785,1)\n",
        "        d = np.linalg.norm(x-x1) #Calculating the euclidean distance\n",
        "        distance.append(d)\n",
        "\n",
        "    sorteddistance = list(np.argsort(distance)) #Sorting the distance in ascending order\n",
        "\n",
        "    if k == 1: #for k = 1\n",
        "      y_pred = train_labels_26_w_dummy[sorteddistance[0]] #Using only first minimum sample from sorted distances\n",
        "\n",
        "    if k == 3: #for K = 3\n",
        "      ylabels = []\n",
        "      for i in range(3): #Using first 3 minimum distance samples from sorted distances\n",
        "        ylabels.append(train_labels_26_w_dummy[sorteddistance[i]])\n",
        "      y_pred = max(ylabels, key = ylabels.count)\n",
        "\n",
        "    if k == 5: #for K = 5\n",
        "      ylabels = []\n",
        "      for i in range(5):#Using first 5 minimum distance samples from sorted distances\n",
        "        ylabels.append(train_labels_26_w_dummy[sorteddistance[i]])\n",
        "      y_pred = max(ylabels, key = ylabels.count)\n",
        "\n",
        "    #Loss function\n",
        "    if y != y_pred:\n",
        "        loss += 1 #increasing loss value whenever a misclassified label is encountered\n",
        "\n",
        "  error = (1/train_set_size)*loss\n",
        "  accuracy = (1-error)*100\n",
        "  print(\"K: {}, Training error: {}\".format(k, error))\n",
        "\n",
        "\n",
        "#K-nearest neighbor algorithm\n",
        "#Test set\n",
        "for k in kvalues:\n",
        "  loss = 0\n",
        "  for i in range(test_set_size): #Calculating Euclieden distance values for each sample of test data\n",
        "    distance = []\n",
        "    x = test_images_26_w_dummy[i][:].reshape(785,1)\n",
        "    y = test_labels_26[i]\n",
        "    for j in range(train_set_size):\n",
        "        x1 = train_images_26_w_dummy[j][:].reshape(785,1)\n",
        "        d = np.linalg.norm(x-x1) #Calculating the euclidean distance\n",
        "        distance.append(d)\n",
        "\n",
        "    sorteddistance = list(np.argsort(distance)) #Sorting the distance in ascending order\n",
        "\n",
        "    if k == 1: #for k = 1 #First minimum distances from training samples\n",
        "      y_pred = train_labels_26_w_dummy[sorteddistance[0]] #Getting the y-label of closest neighbour\n",
        "\n",
        "    if k == 3: #for K = 3 #First 3 minimum distances from training samples\n",
        "      ylabels = []\n",
        "      for i in range(3):\n",
        "        ylabels.append(train_labels_26_w_dummy[sorteddistance[i]]) #y labels of 3 training samples\n",
        "      y_pred = max(ylabels, key = ylabels.count) #Getting the maximum repeated y-label of closest 3 neighbours\n",
        "\n",
        "    if k == 5: #for K = 5 #First 5 minimum distances from training samples\n",
        "      ylabels = []\n",
        "      for i in range(5):\n",
        "        ylabels.append(train_labels_26_w_dummy[sorteddistance[i]]) #y labels of 5 training samples\n",
        "      y_pred = max(ylabels, key = ylabels.count)#Getting the maximum repeated y-label of closest 5 neighbours\n",
        "\n",
        "    #Loss function\n",
        "    if y != y_pred:\n",
        "        loss += 1 #increasing loss value whenever a misclassified label is encountered\n",
        "\n",
        "  error = (1/test_set_size)*loss\n",
        "  accuracy = (1-error)*100\n",
        "  print(\"K: {}, Test error: {}\".format(k, error))"
      ],
      "metadata": {
        "colab": {
          "base_uri": "https://localhost:8080/"
        },
        "id": "uP5p2lvyLVug",
        "outputId": "a922bffe-fc91-4f65-9459-279a2da96008"
      },
      "execution_count": null,
      "outputs": [
        {
          "output_type": "stream",
          "name": "stdout",
          "text": [
            "K: 3, Training error: 0.002\n",
            "K: 5, Training error: 0.006\n",
            "K: 3, Test error: 0.006030150753768845\n",
            "K: 5, Test error: 0.007035175879396985\n"
          ]
        }
      ]
    },
    {
      "cell_type": "code",
      "source": [
        ""
      ],
      "metadata": {
        "id": "sdQL7OJ8N0rB"
      },
      "execution_count": null,
      "outputs": []
    },
    {
      "cell_type": "markdown",
      "source": [
        "#2. Linear Regression"
      ],
      "metadata": {
        "id": "vLxqxiPLrdvJ"
      }
    },
    {
      "cell_type": "code",
      "source": [
        "#2.2 Question\n",
        "np.warnings.filterwarnings('ignore', category=np.VisibleDeprecationWarning)\n",
        "x = [3,2]\n",
        "y = [3,4]\n",
        "t = [0, 0]\n",
        "for i in range(5):\n",
        "    t1 = t[0]\n",
        "    t2 = t[1]\n",
        "    t = np.subtract(t, [0.05*(13*t1+5*t2-17), 0.05*(5*t1+2*t2-7)])\n",
        "    print(\"theta: \", t)    \n",
        "\n",
        "#or to find optimal value\n",
        "theta_opt = np.polyfit(x,y,1)\n",
        "print(\"Optimal theta: \", theta_opt)"
      ],
      "metadata": {
        "colab": {
          "base_uri": "https://localhost:8080/"
        },
        "id": "Zyo2em1Orhok",
        "outputId": "6e616bee-5ce1-4403-fe24-647230b05baa"
      },
      "execution_count": null,
      "outputs": [
        {
          "output_type": "stream",
          "name": "stdout",
          "text": [
            "theta:  [0.85 0.35]\n",
            "theta:  [1.06   0.4525]\n",
            "theta:  [1.107875 0.49225 ]\n",
            "theta:  [1.11469375 0.51605625]\n",
            "theta:  [1.11112875 0.53577719]\n",
            "Optimal theta:  [-1.  6.]\n"
          ]
        }
      ]
    },
    {
      "cell_type": "code",
      "source": [
        "#2.3 question\n",
        "noise = np.random.normal(0,1,10)\n",
        "x = (np.arange(10)-5)/2\n",
        "y = np.power(x,3) - np.power(x,2) + 1 + noise\n",
        "plt.plot(x, y)\n",
        "plt.scatter(x, y)\n",
        "plt.title(\"Ground Truth\")"
      ],
      "metadata": {
        "colab": {
          "base_uri": "https://localhost:8080/",
          "height": 298
        },
        "id": "mxa5nUqOr0ls",
        "outputId": "5818d979-91f1-4049-fbaf-5d01e4b66dc4"
      },
      "execution_count": 46,
      "outputs": [
        {
          "output_type": "execute_result",
          "data": {
            "text/plain": [
              "Text(0.5, 1.0, 'Ground Truth')"
            ]
          },
          "metadata": {},
          "execution_count": 46
        },
        {
          "output_type": "display_data",
          "data": {
            "text/plain": [
              "<Figure size 432x288 with 1 Axes>"
            ],
            "image/png": "[encoded data removed]"
          },
          "metadata": {
            "needs_background": "light"
          }
        }
      ]
    },
    {
      "cell_type": "code",
      "source": [
        "pi = [1]\n",
        "y_values = []\n",
        "for i in range(1, 6):\n",
        "    pi.insert(0, x**i)\n",
        "    theta = np.polyfit(x, y, i)\n",
        "    y_values.append(np.dot(pi, theta))\n",
        "    plt.scatter(x,y)\n",
        "    plt.plot(x,y_values[i-1])\n",
        "    plt.title(\"{} Dimensional\".format(i))\n",
        "    plt.show()\n",
        "\n",
        "fig, ax = plt.subplots()\n",
        "ax.scatter(x, y, label = 'Ground Truth')\n",
        "ax.plot(x, y_values[0], label='1D')\n",
        "ax.plot(x, y_values[1], label='2D')\n",
        "ax.plot(x, y_values[2], label='3D')\n",
        "ax.plot(x, y_values[3], label='4D')\n",
        "ax.plot(x, y_values[4], label='5D')\n",
        "plt.title(\"Comparison\")\n",
        "ax.legend(loc='upper right', frameon=True)\n",
        "leg = ax.legend();"
      ],
      "metadata": {
        "colab": {
          "base_uri": "https://localhost:8080/",
          "height": 1000
        },
        "id": "bYxxZk7RsgSm",
        "outputId": "9c6b1aae-4165-4283-b3ce-913bee54d264"
      },
      "execution_count": null,
      "outputs": [
        {
          "output_type": "display_data",
          "data": {
            "text/plain": [
              "<Figure size 432x288 with 1 Axes>"
            ],
            "image/png": "[encoded data removed]"
          },
          "metadata": {
            "needs_background": "light"
          }
        },
        {
          "output_type": "display_data",
          "data": {
            "text/plain": [
              "<Figure size 432x288 with 1 Axes>"
            ],
            "image/png": "[encoded data removed]"
          },
          "metadata": {
            "needs_background": "light"
          }
        },
        {
          "output_type": "display_data",
          "data": {
            "text/plain": [
              "<Figure size 432x288 with 1 Axes>"
            ],
            "image/png": "[encoded data removed]"
          },
          "metadata": {
            "needs_background": "light"
          }
        },
        {
          "output_type": "display_data",
          "data": {
            "text/plain": [
              "<Figure size 432x288 with 1 Axes>"
            ],
            "image/png": "[encoded data removed]"
          },
          "metadata": {
            "needs_background": "light"
          }
        },
        {
          "output_type": "display_data",
          "data": {
            "text/plain": [
              "<Figure size 432x288 with 1 Axes>"
            ],
            "image/png": "[encoded data removed]"
          },
          "metadata": {
            "needs_background": "light"
          }
        },
        {
          "output_type": "display_data",
          "data": {
            "text/plain": [
              "<Figure size 432x288 with 1 Axes>"
            ],
            "image/png": "[encoded data removed]"
          },
          "metadata": {
            "needs_background": "light"
          }
        }
      ]
    },
    {
      "cell_type": "markdown",
      "source": [
        "#3. Logistic Regression"
      ],
      "metadata": {
        "id": "wkLDzWKSyfn2"
      }
    },
    {
      "cell_type": "code",
      "source": [
        "def sigmoid(z):\n",
        "  return [1/(1 + np.exp(-h)) for h in z]"
      ],
      "metadata": {
        "id": "NmoUFU-k3XEG"
      },
      "execution_count": 11,
      "outputs": []
    },
    {
      "cell_type": "markdown",
      "source": [
        "##1. Batch gradient descent"
      ],
      "metadata": {
        "id": "nri07ALNBI09"
      }
    },
    {
      "cell_type": "code",
      "source": [
        "import timeit"
      ],
      "metadata": {
        "id": "pvsOKbpoS7oz"
      },
      "execution_count": 21,
      "outputs": []
    },
    {
      "cell_type": "code",
      "source": [
        "start = timeit.timeit()\n",
        "theta = np.zeros((785 , 1))\n",
        "train_set_size = train_labels_26_w_dummy.shape[0]\n",
        "X = train_images_26_w_dummy\n",
        "Y_actual = train_labels_26_w_dummy.reshape(1000,1)\n",
        "alpha = 0.5\n",
        "count = 0\n",
        "\n",
        "#Batch gradient descent\n",
        "loss_grad = 1\n",
        "while np.linalg.norm(loss_grad) > 0.01:\n",
        "  thetaTX = np.dot(X, theta)\n",
        "  h_theta = sigmoid(thetaTX)\n",
        "  loss_grad = np.dot(np.transpose(X), Y_actual - h_theta)\n",
        "  theta = theta + alpha*loss_grad\n",
        "  count += 1\n",
        "\n",
        "end = timeit.timeit()\n",
        "theta_g = theta\n",
        "print(\"BGD: Number of times whole training dataset is used: \", count)\n",
        "print(\"Time taken: \", end - start)"
      ],
      "metadata": {
        "colab": {
          "base_uri": "https://localhost:8080/"
        },
        "id": "oIwTjTznyiwO",
        "outputId": "ec1e3d6c-b1ff-4b81-a1de-d1924d64b3f8"
      },
      "execution_count": 25,
      "outputs": [
        {
          "output_type": "stream",
          "name": "stdout",
          "text": [
            "BGD: Number of times whole training dataset is used:  173\n",
            "Time taken:  0.060900035000031494\n"
          ]
        }
      ]
    },
    {
      "cell_type": "code",
      "source": [
        "#Training error\n",
        "\n",
        "thetaTX = np.dot(X, theta)\n",
        "h_theta = sigmoid(thetaTX)\n",
        "y_pred = [1 if val >= 0.5 else 0 for val in h_theta]\n",
        "loss = 0\n",
        "for i in range(train_set_size):\n",
        "  if Y_actual[i] != y_pred[i]:\n",
        "    loss += 1\n",
        "error = (1/train_set_size)*loss\n",
        "print(\"Training Error: {}\".format(error))\n",
        "\n",
        "#Test error\n",
        "X = test_images_26_w_dummy\n",
        "Y_actual = test_labels_26_log\n",
        "thetaTX = np.dot(X, theta)\n",
        "h_theta = sigmoid(thetaTX)\n",
        "y_pred = [1 if val >= 0.5 else 0 for val in h_theta]\n",
        "loss = 0\n",
        "test_set_size = test_labels_26_log.shape[0]\n",
        "for i in range(test_set_size):\n",
        "  if Y_actual[i] != y_pred[i]:\n",
        "    loss += 1\n",
        "error = (1/train_set_size)*loss\n",
        "print(\"Test Error: {}\".format(error))"
      ],
      "metadata": {
        "colab": {
          "base_uri": "https://localhost:8080/"
        },
        "id": "ZG52iZaj2qJW",
        "outputId": "c3072a4e-78d4-430b-dbe8-497837d26416"
      },
      "execution_count": 13,
      "outputs": [
        {
          "output_type": "stream",
          "name": "stdout",
          "text": [
            "Training Error: 0.0\n",
            "Test Error: 0.06\n"
          ]
        }
      ]
    },
    {
      "cell_type": "code",
      "source": [
        ""
      ],
      "metadata": {
        "id": "Ahu7EI5d-w8a"
      },
      "execution_count": 13,
      "outputs": []
    },
    {
      "cell_type": "markdown",
      "source": [
        "##2. Stochastic gradient descent"
      ],
      "metadata": {
        "id": "H8icWUA3BSgZ"
      }
    },
    {
      "cell_type": "code",
      "source": [
        "start2 = timeit.timeit()\n",
        "theta = np.zeros((785 , 1))\n",
        "train_set_size = train_labels_26_w_dummy.shape[0]\n",
        "X = train_images_26_w_dummy\n",
        "Y_actual = train_labels_26_w_dummy.reshape(1000,1)\n",
        "X, Y_actual = shuffle(X, Y_actual)\n",
        "flag = 0\n",
        "alpha = 0.5\n",
        "count = 0\n",
        "\n",
        "#Stochastic gradient descent\n",
        "while flag == 0:\n",
        "  \n",
        "  for i in range(train_set_size):\n",
        "    x = X[i]\n",
        "    x = x.reshape(785,1)\n",
        "    thetaTX_s = np.dot(np.transpose(x), theta)\n",
        "    h_theta_s = sigmoid(thetaTX_s)\n",
        "    theta = theta + alpha*(Y_actual[i] - h_theta_s)*x\n",
        "    \n",
        "\n",
        "    if i % 200 == 0:\n",
        "      thetaTX = np.dot(X, theta)\n",
        "      h_theta = sigmoid(thetaTX)\n",
        "      loss_grad = np.dot(np.transpose(X), Y_actual - h_theta)\n",
        "      if np.linalg.norm(loss_grad) < 0.01:\n",
        "        flag = 1\n",
        "        break\n",
        "  count += 1\n",
        "\n",
        "end2 = timeit.timeit()   \n",
        "theta_s = theta\n",
        "print(\"SGD: Number of times whole training dataset is used: \", count)\n",
        "print(\"Time taken: \", end2 - start2)"
      ],
      "metadata": {
        "colab": {
          "base_uri": "https://localhost:8080/"
        },
        "id": "hZ-hLvJ3BVJI",
        "outputId": "cb2e26ab-8ddd-49e5-b23a-622a0dc80bdc"
      },
      "execution_count": 29,
      "outputs": [
        {
          "output_type": "stream",
          "name": "stdout",
          "text": [
            "SGD: Number of times whole training dataset is used:  86\n",
            "Time taken:  0.014597250000178974\n"
          ]
        }
      ]
    },
    {
      "cell_type": "code",
      "source": [
        "#Training error\n",
        "thetaTX = np.dot(X, theta)\n",
        "h_theta = sigmoid(thetaTX)\n",
        "y_pred = [1 if val >= 0.5 else 0 for val in h_theta]\n",
        "loss = 0\n",
        "for i in range(train_set_size):\n",
        "  if Y_actual[i] != y_pred[i]:\n",
        "    loss += 1\n",
        "error = (1/train_set_size)*loss\n",
        "print(\"Training Error: {}\".format(error))\n",
        "\n",
        "#Test error\n",
        "X = test_images_26_w_dummy\n",
        "Y_actual = test_labels_26_log\n",
        "thetaTX = np.dot(X, theta)\n",
        "h_theta = sigmoid(thetaTX)\n",
        "y_pred = [1 if val >= 0.5 else 0 for val in h_theta]\n",
        "loss = 0\n",
        "test_set_size = test_labels_26_log.shape[0]\n",
        "for i in range(test_set_size):\n",
        "  if Y_actual[i] != y_pred[i]:\n",
        "    loss += 1\n",
        "error = (1/train_set_size)*loss\n",
        "print(\"Test Error: {}\".format(error))"
      ],
      "metadata": {
        "colab": {
          "base_uri": "https://localhost:8080/"
        },
        "id": "Cplkc3qaImHy",
        "outputId": "dbf0766c-bafb-40bf-c246-cd4d32da4518"
      },
      "execution_count": 30,
      "outputs": [
        {
          "output_type": "stream",
          "name": "stdout",
          "text": [
            "Training Error: 0.0\n",
            "Test Error: 0.056\n"
          ]
        }
      ]
    },
    {
      "cell_type": "code",
      "source": [
        ""
      ],
      "metadata": {
        "id": "drrunsCnPW7Y"
      },
      "execution_count": 28,
      "outputs": []
    },
    {
      "cell_type": "markdown",
      "source": [
        "##3. Classifiers comparison"
      ],
      "metadata": {
        "id": "5a4InU9ckobD"
      }
    },
    {
      "cell_type": "code",
      "source": [
        "\n",
        "#for different values of threshold\n",
        "#for classifier 1: Batch gradient descent\n",
        "\n",
        "theta = theta_g\n",
        "t = np.arange(0, 1.1, 0.01)\n",
        "tpr_values1 = []\n",
        "fpr_values1 = []\n",
        "for tr in t:\n",
        "\n",
        "  #Test error\n",
        "  X = test_images_26_w_dummy\n",
        "  Y_actual = test_labels_26_log\n",
        "  thetaTX = np.dot(X, theta)\n",
        "  h_theta = sigmoid(thetaTX)\n",
        "  y_pred = [1 if val >= tr else 0 for val in h_theta]\n",
        "  true_p = 0\n",
        "  false_n = 0\n",
        "  false_p = 0\n",
        "  true_n = 0\n",
        "  test_set_size = test_labels_26_log.shape[0]\n",
        "  for i in range(test_set_size):\n",
        "    if Y_actual[i] == 1 and y_pred[i] == 1:\n",
        "      true_p += 1\n",
        "    if Y_actual[i] == 1 and y_pred[i] == 0:\n",
        "      false_n += 1\n",
        "    if Y_actual[i] == 0 and y_pred[i] == 1:\n",
        "      false_p += 1\n",
        "    if Y_actual[i] == 0 and y_pred[i] == 0:\n",
        "      true_n += 1 \n",
        "\n",
        "  true_pos_rate = true_p/(true_p + false_n)\n",
        "  false_pos_rate = false_p/(false_p + true_n)\n",
        "  \n",
        "  tpr_values1.append(true_pos_rate)\n",
        "  fpr_values1.append(false_pos_rate)\n",
        "\n",
        "\n",
        "\n",
        "#for different values of threshold\n",
        "#for classifier 2: Stochastic gradient descent\n",
        "\n",
        "theta = theta_s\n",
        "tpr_values2 = []\n",
        "fpr_values2 = []\n",
        "for tr in t:\n",
        "\n",
        "  #Test error\n",
        "  X = test_images_26_w_dummy\n",
        "  Y_actual = test_labels_26_log\n",
        "  thetaTX = np.dot(X, theta)\n",
        "  h_theta = sigmoid(thetaTX)\n",
        "  y_pred = [1 if val >= tr else 0 for val in h_theta]\n",
        "  true_p = 0\n",
        "  false_n = 0\n",
        "  false_p = 0\n",
        "  true_n = 0\n",
        "  for i in range(test_set_size):\n",
        "    if Y_actual[i] == 1 and y_pred[i] == 1:\n",
        "      true_p += 1\n",
        "    if Y_actual[i] == 1 and y_pred[i] == 0:\n",
        "      false_n += 1\n",
        "    if Y_actual[i] == 0 and y_pred[i] == 1:\n",
        "      false_p += 1\n",
        "    if Y_actual[i] == 0 and y_pred[i] == 0:\n",
        "      true_n += 1 \n",
        "\n",
        "  true_pos_rate = true_p/(true_p + false_n)\n",
        "  false_pos_rate = false_p/(false_p + true_n)\n",
        "  \n",
        "  tpr_values2.append(true_pos_rate)\n",
        "  fpr_values2.append(false_pos_rate)\n"
      ],
      "metadata": {
        "id": "5qfs-FSeSNtH"
      },
      "execution_count": 31,
      "outputs": []
    },
    {
      "cell_type": "code",
      "source": [
        "from sklearn.metrics import auc\n",
        "fig, ax = plt.subplots()\n",
        "x_val1 = fpr_values1\n",
        "y_val1 = tpr_values1\n",
        "\n",
        "x_val2 = fpr_values2\n",
        "y_val2 = tpr_values2\n",
        "\n",
        "ax.plot(x_val1, y_val1, label = 'BGD')\n",
        "ax.plot(x_val2, y_val2, label = 'SGD')\n",
        "plt.title(\"ROC Curve\")\n",
        "plt.xlabel(\"FPR\")\n",
        "plt.ylabel(\"TPR\")\n",
        "ax.legend(loc= 'upper right', frameon=True)\n",
        "leg = ax.legend();\n",
        "\n",
        "\n",
        "area1 = auc(x_val1, y_val1)\n",
        "area2 = auc(x_val2, y_val2)\n",
        "\n",
        "print(\"BGD Classifier AUC: \", area1)\n",
        "print(\"SGD Classifier AUC: \", area2)"
      ],
      "metadata": {
        "colab": {
          "base_uri": "https://localhost:8080/",
          "height": 330
        },
        "id": "zzYciiQWSNy9",
        "outputId": "3a05faad-4883-4483-e9b4-6a1246da28f6"
      },
      "execution_count": 43,
      "outputs": [
        {
          "output_type": "stream",
          "name": "stdout",
          "text": [
            "BGD Classifier AUC:  0.971644839054231\n",
            "SGD Classifier AUC:  0.984767199106666\n"
          ]
        },
        {
          "output_type": "display_data",
          "data": {
            "text/plain": [
              "<Figure size 432x288 with 1 Axes>"
            ],
            "image/png": "[encoded data removed]"
          },
          "metadata": {
            "needs_background": "light"
          }
        }
      ]
    },
    {
      "cell_type": "code",
      "source": [
        ""
      ],
      "metadata": {
        "id": "5izElJqWqwCa"
      },
      "execution_count": 17,
      "outputs": []
    },
    {
      "cell_type": "markdown",
      "source": [
        "#4. K-fold cross validation"
      ],
      "metadata": {
        "id": "2qBd829ks0kR"
      }
    },
    {
      "cell_type": "code",
      "source": [
        "from sklearn.metrics.pairwise import rbf_kernel\n",
        "from sklearn.metrics.pairwise import pairwise_kernels\n",
        "X = train_images_26\n",
        "Y = train_labels_26\n",
        "# X, Y = shuffle(X, Y)\n",
        "train_set_size = 900\n",
        "test_set_size = 100\n",
        "k_folds = 10\n",
        "\n",
        "sigma_values = [0.2, 0.5, 1, 3, 4, 5, 10]\n",
        "for val in sigma_values:\n",
        "\n",
        "  avg_test_error = 0\n",
        "  avg_train_error = 0\n",
        "  X = train_images_26\n",
        "  Y = train_labels_26\n",
        "  for k in range(k_folds):\n",
        "    s = k*100\n",
        "    e = k*100 + 100\n",
        "\n",
        "    if k == 0:\n",
        "      x_train = X[e:]\n",
        "      y_train = Y[e:]\n",
        "\n",
        "    elif k == 9:\n",
        "      x_train = X[:s]\n",
        "      y_train = Y[:s]\n",
        "\n",
        "    else:\n",
        "      x_train = np.concatenate((X[:s], X[e:]), axis = 0)\n",
        "      y_train = np.concatenate((Y[:s], Y[e:]), axis = 0)\n",
        "\n",
        "    x_test = X[s:e]\n",
        "    y_test = Y[s:e]\n",
        "    \n",
        "    y_train = y_train.reshape(900,1)\n",
        "    # print(\"x train, y train\", np.shape(x_train), np.shape(y_train))\n",
        "\n",
        "    K_train = rbf_kernel(x_train, gamma=1/2/val**2) #kernel for training data\n",
        "    K_train_test = rbf_kernel(x_train, x_test, gamma=1/2/val**2) #kernel for test data\n",
        "    \n",
        "\n",
        "    alpha = cp.Variable((train_set_size, 1))\n",
        "    cost = 0.5*cp.quad_form( cp.multiply(alpha,y_train.reshape(train_set_size,1)) , K_train) - alpha.T * np.ones(train_set_size)\n",
        "    objective = cp.Minimize(cost)\n",
        "\n",
        "    constraints=[alpha >= 0,\n",
        "             y_train @ alpha.T == 0]\n",
        "\n",
        "    prob = cp.Problem(objective, constraints)\n",
        "    prob.solve()\n",
        "\n",
        "    alpha = alpha.value\n",
        "\n",
        "    #Dual SVM using kernel trick\n",
        "    #Calculating w* and b* from alpha\n",
        "    w_dual_pix = np.dot(K_train.T, np.multiply(alpha, y_train))\n",
        "    y_neg = []\n",
        "    y_pos = []\n",
        "    loss = 0\n",
        "\n",
        "    for i in range(train_set_size):\n",
        "      if y_train[i] == -1:\n",
        "        y_neg.append(w_dual_pix[i])\n",
        "      else:\n",
        "        y_pos.append(w_dual_pix[i])\n",
        "    \n",
        "    if len(y_neg) == 0:\n",
        "      b_dual = -min(y_pos)/2\n",
        "    else:\n",
        "      b_dual = - (max(y_neg) + min(y_pos))/2\n",
        "\n",
        "\n",
        "    #Training error\n",
        "    y_pred = w_dual_pix + b_dual\n",
        "    y_pred = [1 if y >= 0 else -1 for y in y_pred]\n",
        "\n",
        "    for i in range(train_set_size):\n",
        "      if y_train[i] != y_pred[i]:\n",
        "        loss += 1\n",
        "\n",
        "    train_error = (1/train_set_size)*loss\n",
        "    train_accuracy = (1-train_error)*100\n",
        "    avg_train_error += train_error\n",
        "    # print(\"train\", avg_train_error)\n",
        "    \n",
        "\n",
        "    #Test error\n",
        "    #Calculating w* and b* from alpha\n",
        "\n",
        "    w_dual_pix = np.dot(K_train_test.T, alpha*y_train)\n",
        "    y_val = y_test\n",
        "    y_neg = []\n",
        "    y_pos = []\n",
        "    loss = 0\n",
        "\n",
        "    #Test error\n",
        "    y_pred = w_dual_pix + b_dual\n",
        "    y_pred = [1 if y >= 0 else -1 for y in y_pred]\n",
        "\n",
        "    for i in range(test_set_size):\n",
        "      if y_val[i] != y_pred[i]:\n",
        "        loss += 1\n",
        "\n",
        "    test_error = (1/test_set_size)*loss\n",
        "    test_accuracy = (1-test_error)*100\n",
        "\n",
        "    avg_test_error += test_error\n",
        "    # print(\"test\", avg_test_error)\n",
        "\n",
        "  train_error_val = avg_train_error/(k_folds - 1)\n",
        "  test_error_val = avg_test_error/(k_folds - 1)\n",
        "  print(\"Sigma: {}, Training Error: {}, Test Error: {}\".format(val, train_error_val, test_error_val))"
      ],
      "metadata": {
        "colab": {
          "base_uri": "https://localhost:8080/"
        },
        "id": "A-zkT3c8s4GP",
        "outputId": "aab8a951-9c45-43ed-d3d8-be97b689769c"
      },
      "execution_count": null,
      "outputs": [
        {
          "output_type": "stream",
          "name": "stdout",
          "text": [
            "Sigma: 0.2, Training Error: 0.0, Test Error: 0.5655555555555556\n",
            "Sigma: 0.5, Training Error: 0.0, Test Error: 0.5299999999999999\n",
            "Sigma: 1, Training Error: 0.0, Test Error: 0.035555555555555556\n",
            "Sigma: 3, Training Error: 0.01790123456790124, Test Error: 0.06333333333333334\n",
            "Sigma: 4, Training Error: 0.04012345679012346, Test Error: 0.05555555555555555\n",
            "Sigma: 5, Training Error: 0.047654320987654326, Test Error: 0.05555555555555555\n",
            "Sigma: 10, Training Error: 0.060740740740740734, Test Error: 0.06333333333333334\n"
          ]
        }
      ]
    },
    {
      "cell_type": "code",
      "source": [
        ""
      ],
      "metadata": {
        "id": "bWsYgMWs1Fb0"
      },
      "execution_count": null,
      "outputs": []
    }
  ]
}